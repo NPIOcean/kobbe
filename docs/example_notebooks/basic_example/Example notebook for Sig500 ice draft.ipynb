{
 "cells": [
  {
   "cell_type": "markdown",
   "id": "e8d5a24f-2ee0-4193-926e-9c16f48d1964",
   "metadata": {},
   "source": [
    "# Example notebook: Processing sea ice draft \n",
    "\n",
    "Obtaining time series of sea ice draft from a Signature500 dataset (procedure is the same for Signature 250).\n",
    "\n",
    "- Assumes that instrument data in `.ad2cp` format has been converted to `.mat` files using Nortek's [SignatureDEployment](https://www.nortekgroup.com/assets/software/SignatureDeployment.4.7.2.StandAlone.x64.zip) software (free).\n",
    "    - To test this notebook on your system, you can download some [test files from Zenodo](https://zenodo.org/records/13223574) (put the files in `test_data/`).\n",
    "- Assumes that the instrument has profiled in \"ice draft\" mode, i.e. that it has fields like `Average_AltimeterDistanceLE`. \n",
    "\n",
    "\n",
    ">**Note**\n",
    ">\n",
    ">We load the Signature dataset as an *xarray Dataset*, `ds`. To inspect the dataset (view the structure and content of the dataset and its metadata), simply execute `ds` in a cell. "
   ]
  },
  {
   "cell_type": "markdown",
   "id": "7a2a1b49-e801-43cf-9ed7-734ec4612f0b",
   "metadata": {},
   "source": [
    "#### Imports"
   ]
  },
  {
   "cell_type": "code",
   "execution_count": 6,
   "id": "eebc35bb-25e5-4bcf-a628-83044fa80cf1",
   "metadata": {},
   "outputs": [],
   "source": [
    "import kobbe\n",
    "import matplotlib.pyplot as plt\n",
    "import numpy as np\n",
    "import xarray as xr"
   ]
  },
  {
   "cell_type": "markdown",
   "id": "8ff76934-c1ff-4e5d-9026-9d099f2f5d48",
   "metadata": {},
   "source": [
    "## Load the Signature data\n",
    "\n",
    "The function `kobbe.load.matfiles_to_dataset()` will look for `.mat` files in the specified directory, parse these files and concatenate them into one single xarray Dataset. \n",
    "\n",
    "A few more things happen in this step:\n",
    "\n",
    "- The dataset is **reshaped** from a single `time_average` dimension to two dimensions:\n",
    "    - `TIME`: Time stamp of the ensemble averaged measurement\n",
    "    - `SAMPLE`: Sample number within the ensemble\n",
    "\n",
    "- Instrument **tilt** is calculated from pitch and roll components.\n",
    "\n",
    "- **Ice presence** is calculated based on the FOM criterion of the slanted beams. We also calculate a \"sea ice concentration\" per ensebmle based on ice presence. This creates some new variables:\n",
    "    - `ICE_IN_SAMPLE(TIME, SAMPLE)`: (Boolean) True if ice is detected in ALL founr beams.\n",
    "    - `ICE_IN_SAMPLE_ANY(TIME, SAMPLE)`: (Boolean) True if ice is detected in ANY of the four beams.\n",
    "    - `SIC_FOM(TIME)`: (percent) \"Sea ice concentration\" in each ensemble calculated as the fraction of samples per ensemble where `ICE_IN_SAMPLE` is True.\n",
    "    - `SIC_FOM_ALT(TIME)`: (percent) \"Sea ice concentration\" in each ensemble calculated as the fraction of samples per ensemble where `ICE_IN_SAMPLE_ANY` is True."
   ]
  },
  {
   "cell_type": "markdown",
   "id": "023593be-fa0d-4945-97ef-dc456a2c7f8d",
   "metadata": {},
   "source": [
    "Load the data. Note that we specify (fake) lat/lon. Optional, but will be needed for various computations eventually. "
   ]
  },
  {
   "cell_type": "code",
   "execution_count": 7,
   "id": "b6dd75c6-fd94-4b47-8bf4-07a5e86fac96",
   "metadata": {},
   "outputs": [],
   "source": [
    "import kobbe"
   ]
  },
  {
   "cell_type": "code",
   "execution_count": 8,
   "id": "60be1167-89b3-4833-b1c6-7b2a49087363",
   "metadata": {},
   "outputs": [
    {
     "name": "stdout",
     "output_type": "stream",
     "text": [
      "266496 time points, 5552 ensembles. Samples per ensemble: 48\n",
      "Done. Run kobbe.load.overview()) to print some additional details.\n"
     ]
    }
   ],
   "source": [
    "ddir = 'test_data/' # The directory of the source .mat file data\n",
    "ds = kobbe.load.matfiles_to_dataset(ddir, lat=80, lon = 30, )"
   ]
  },
  {
   "cell_type": "markdown",
   "id": "10cb0fbe-17b0-48a1-8eee-2dbb1bf4a3ab",
   "metadata": {},
   "source": [
    "Useful at this stage to print an overview of the data we have loaded (and check that it matches expectations!)"
   ]
  },
  {
   "cell_type": "code",
   "execution_count": 9,
   "id": "51c3542c-868b-48a9-8ed6-a04a8ab83959",
   "metadata": {},
   "outputs": [
    {
     "name": "stdout",
     "output_type": "stream",
     "text": [
      "\n",
      "TIME RANGE:\n",
      "18 May 2019 12:15  -->  15 Jul 2019 08:00  (57.8 days)\n",
      "Time between ensembles: 15.0 min.\n",
      "Time between samples in ensembles: 1.0 sec.\n",
      "\n",
      "PRESSURE:\n",
      "Median (STD) of altimeter pressure (Average_AltimeterPressure): 20.6 dbar (0.3 dbar) - with fixed atm offset 9.500 dbar.\n",
      "\n",
      "SIZE:\n",
      "Total 266496 time points.\n",
      "Split into 5552 ensembles with 48 sample(s) per ensemble.\n",
      "Ocean velocity bins: 16.\n"
     ]
    }
   ],
   "source": [
    "kobbe.load.overview(ds)"
   ]
  },
  {
   "cell_type": "markdown",
   "id": "243fb707-5431-4cab-b94f-8c28b134dd69",
   "metadata": {},
   "source": [
    "## Load and append some auxilary data\n",
    "\n",
    "It is possible to obtain an ice draft estimate from just Signature data. However, the ice draft estimates if we have data from an adjacent CTD sensor (to make corrections for accurate sound speed an density) and atmospheric pressure (to more accurately determine instrument depth based on the pressure the overlying seawater). Magnetic declination is important in the post-processing of ice and ocean velocities. \n",
    "\n",
    "Add to the dataset:\n",
    "- CTD data (if we have a CTD sensor mounted along with the Signature)\n",
    "- Atmospheric pressure (from ERA5)\n",
    "- Magnetic declination (from the World Magnetic Model)"
   ]
  },
  {
   "cell_type": "markdown",
   "id": "c5ba362c-e18f-4746-8a6f-d4e2c21e4e66",
   "metadata": {},
   "source": [
    "#### CTD data\n",
    "\n",
    "Appending CTD data if we have it. Calculating TEOS-10 variables (Absolute Salinity, Conservative Temperature), sound speed, and density using the [gsw](https://teos-10.github.io/GSW-Python/) module.\n",
    "\n",
    "\n",
    "Below, we append some mock data. Appending real data from a file could look like this: \n",
    "\n",
    "```\n",
    "from kval.file import matfile\n",
    "ds_ctd = matfile.mat_to_xr_1D('ctd_data.mat')\n",
    "ds = append.append_ctd(ds, ds_ctd.T, ds_ctd.S, ds_ctd.P, ds_ctd.TIME, )\n",
    "```\n"
   ]
  },
  {
   "cell_type": "markdown",
   "id": "89de9a81-1c22-4462-b5f1-75ca3c241ceb",
   "metadata": {},
   "source": [
    "##### *Create some mock CTD data*"
   ]
  },
  {
   "cell_type": "code",
   "execution_count": 10,
   "id": "85d32d43-9ed6-4585-b131-fd58e9e85690",
   "metadata": {},
   "outputs": [
    {
     "name": "stderr",
     "output_type": "stream",
     "text": [
      "/tmp/ipykernel_863472/2908580992.py:1: DeprecationWarning: __array__ implementation doesn't accept a copy keyword, so passing copy=False failed. __array__ must implement 'dtype' and 'copy' keyword arguments. To learn more, see the migration guide https://numpy.org/devdocs/numpy_2_0_migration_guide.html#adapting-to-changes-in-the-copy-keyword\n",
      "  mock_time = np.arange(ds.TIME[0], ds.TIME[-1])\n"
     ]
    }
   ],
   "source": [
    "mock_time = np.arange(ds.TIME[0], ds.TIME[-1])\n",
    "L_mock = len(mock_time)\n",
    "mock_temp = np.random.rand(L_mock)*5 -1.8  # Temperature\n",
    "mock_sal = np.random.rand(L_mock)*1.5 + 33.5  # Salinity\n",
    "mock_pres = np.random.rand(L_mock) + 20  # Pressure"
   ]
  },
  {
   "cell_type": "markdown",
   "id": "834b6ef6-1a6f-47cc-b240-045073c10a20",
   "metadata": {},
   "source": [
    "##### *Add to the dataset using the `append_ctd()` function*\n"
   ]
  },
  {
   "cell_type": "code",
   "execution_count": 11,
   "id": "3eef27ae-d3f7-41a1-8a3b-6b1b58c7a367",
   "metadata": {},
   "outputs": [],
   "source": [
    "ds = kobbe.append.append_ctd(ds, mock_temp, mock_sal, mock_pres, mock_time,\n",
    "         instr_SN = '11111',\n",
    "       instr_desc = 'SBE37 CTD sensor mounted right below the Signature (for example)' )"
   ]
  },
  {
   "cell_type": "markdown",
   "id": "9e3f213e-02bf-4614-beeb-0d9dbbf16eb4",
   "metadata": {},
   "source": [
    "This operation adds the variables `'SA_CTD', 'CT_CTD','pres_CTD','sound_speed_CTD', 'rho_CTD'` to the datasets. (Good idea to execute `ds` to verify that these were indeed added)."
   ]
  },
  {
   "cell_type": "code",
   "execution_count": 12,
   "id": "34b4dbc1-40a6-45e8-b0b0-6f7b780d0296",
   "metadata": {},
   "outputs": [
    {
     "data": {
      "image/png": "[encoded data removed]",
      "text/plain": [
       "<Figure size 1100x200 with 1 Axes>"
      ]
     },
     "metadata": {},
     "output_type": "display_data"
    }
   ],
   "source": [
    "fig, ax = plt.subplots(figsize = (11, 2))\n",
    "ax.plot(xr.decode_cf(ds).TIME, ds.CT_CTD, '-', label = 'CT_CTD')\n",
    "\n",
    "leg = ax.legend(); "
   ]
  },
  {
   "cell_type": "markdown",
   "id": "7b851db0-9d8f-4166-97e1-d1bcb49fbb51",
   "metadata": {},
   "source": [
    "#### Atmospheric pressure\n",
    "\n",
    "If you have a record os atmospheric (sea level) pressure, we can append it to the dataset using `ds = kobbe.append.append_atm_pres()`. \n",
    "\n",
    "We can also opt to automatically grab sea level pressure from ERA-5 (nearest grid point to the specified `lat`/`lon`). Hourly ERA-5 data are collected from the [Asia-Pacific Data-Reasearch Center] (http://apdrc.soest.hawaii.edu) over OpenDAP. \n",
    "\n",
    "**Note** These operations can take some time (minutes, typically) as we need to access data on the server and cut out a slice of data from a very large dataset."
   ]
  },
  {
   "cell_type": "markdown",
   "id": "5bd3487e-ff44-4c58-abed-8b7738e819fc",
   "metadata": {},
   "source": [
    "Auto append ERA5 pressure to the dataset wih `append_atm_pres_auto`"
   ]
  },
  {
   "cell_type": "code",
   "execution_count": 13,
   "id": "d0031975-c799-4767-9710-e6f899138562",
   "metadata": {},
   "outputs": [
    {
     "name": "stdout",
     "output_type": "stream",
     "text": [
      "Loading ERA5 file from APDRC servers (http://apdrc.soest.hawaii.edu:80/dods/public_data/Reanalysis_Data/ERA5/hourly/Surface_pressure) .. done.\n",
      "Evaluating local ERA5 time series .. done.\n"
     ]
    }
   ],
   "source": [
    "ds = kobbe.append.append_atm_pres_auto(ds)"
   ]
  },
  {
   "cell_type": "markdown",
   "id": "65caf064-2224-4004-9698-e4f777b08bc8",
   "metadata": {},
   "source": [
    "This operation should append the variable `p_atmo` to the dataset. We can make a quick plot of the variable:"
   ]
  },
  {
   "cell_type": "code",
   "execution_count": 14,
   "id": "64601651-131d-45db-940e-1c2af3a3f02b",
   "metadata": {},
   "outputs": [
    {
     "data": {
      "text/plain": [
       "Text(0, 0.5, 'p_atmo [dbar]')"
      ]
     },
     "execution_count": 14,
     "metadata": {},
     "output_type": "execute_result"
    },
    {
     "data": {
      "image/png": "[encoded data removed]",
      "text/plain": [
       "<Figure size 1100x200 with 1 Axes>"
      ]
     },
     "metadata": {},
     "output_type": "display_data"
    }
   ],
   "source": [
    "fig, ax = plt.subplots(figsize = (11, 2))\n",
    "ax.plot(xr.decode_cf(ds).TIME, ds.p_atmo, '-', \n",
    "        label = 'Interpolated from ERA5 hourly - interpolated onto dataset TIME coordinate')\n",
    "leg = ax.legend()\n",
    "leg.set_zorder(0)\n",
    "ax.set_ylabel(f'p_atmo [{ds.p_atmo.units}]')"
   ]
  },
  {
   "cell_type": "markdown",
   "id": "52b9066c-a594-4875-9bab-0d808aeb6bb8",
   "metadata": {},
   "source": [
    "*Note*: We use `xr.decode_cf(ds)` just to get the x-axis to display dates (`2019-05-18`, etc) rather than the Python numerical epoch (`18034`, etc). "
   ]
  },
  {
   "cell_type": "markdown",
   "id": "43c478cd-a889-4f99-8ddf-db2c8b6e70d1",
   "metadata": {},
   "source": [
    "#### Append magnetic declination\n",
    "\n",
    "Like with pressure, we can specify a known magnetic declination using a designated function, `kobbe.append.append_magdec()`. We also have an automatic alternative, `kobbe.append.append_magdec_auto()`, which will grab magnetic declination from the World Magnetic Model at the coordinate specified by `lat` and `lon` using [pygeomag](https://pypi.org/project/pygeomag/), which is on turn Python API for the [British Geological Survey magnetic field\n",
    "calculator](https://github.com/filips123/MagneticFieldCalculator/)."
   ]
  },
  {
   "cell_type": "markdown",
   "id": "e5b9f3f7-2fd3-4b28-9a01-47379cff8d65",
   "metadata": {},
   "source": [
    "##### Obtain and append magnetic declination"
   ]
  },
  {
   "cell_type": "code",
   "execution_count": 15,
   "id": "f461bb27-c559-46a8-b97a-7501e2ce53bb",
   "metadata": {},
   "outputs": [],
   "source": [
    "ds = kobbe.append.append_magdec_auto(ds)"
   ]
  },
  {
   "cell_type": "markdown",
   "id": "0e6e3491-c130-4343-9f3d-cffca9c4c484",
   "metadata": {},
   "source": [
    "This adds the variable `magde`. Check it with a quick plot: "
   ]
  },
  {
   "cell_type": "code",
   "execution_count": 16,
   "id": "ebcc613a-1416-4790-97ae-efb0ccf5eae6",
   "metadata": {},
   "outputs": [
    {
     "data": {
      "image/png": "[encoded data removed]",
      "text/plain": [
       "<Figure size 1000x200 with 1 Axes>"
      ]
     },
     "metadata": {},
     "output_type": "display_data"
    }
   ],
   "source": [
    "fig, ax = plt.subplots(figsize = (10, 2))\n",
    "ax.plot(xr.decode_cf(ds).TIME, ds.magdec, '-', \n",
    "        label = 'Magdec interpolated in dataset')\n",
    "ax.legend(); ax.set_ylabel('degrees');"
   ]
  },
  {
   "cell_type": "markdown",
   "id": "7aa68354-dbc3-4367-bdcc-fe19a696525a",
   "metadata": {},
   "source": [
    "## Calculate sea ice draft\n",
    "\n",
    "Having set the dataset up, we are now ready to calculate derived variables (such as sea ice draft).\n",
    "\n",
    "It may be a good idea to save a copy of the dataset at this stage (e.g. `kobbe.load.to_nc(ds, 'MySigDataset_initial.nc')`) in case you want to rerun your post-processing later without having to go through all the initial steps.."
   ]
  },
  {
   "cell_type": "markdown",
   "id": "ae4d4918-6565-42b3-9afb-ab05d8060522",
   "metadata": {},
   "source": [
    "### Calculate transducer depth from pressure\n",
    "\n",
    "Transducer depth is a key variable in computing sea ice draft. `kobbe.calc.dep_from_p()` calculates depth based on the instrument pressure at transducer level (`AveragePressure` minus atmospheric pressure) using the hydrostatic relation. In-situ density is used if available. Gravitational acceleration $g$ is calculated based on latitude using the [gsw](https://teos-10.github.io/GSW-Python/) module.\n",
    "\n",
    "(If we do not have in-situ density (no `rho_CTD` field in the dataset), the user is prompter whether they want to use a default value of  1027.0 kg m-3 or specify another ficed value.)\n",
    "\n"
   ]
  },
  {
   "cell_type": "code",
   "execution_count": 17,
   "id": "ebda55eb-aba1-48f4-a79a-da2e9a58b293",
   "metadata": {},
   "outputs": [],
   "source": [
    "ds = kobbe.calc.dep_from_p(ds)"
   ]
  },
  {
   "cell_type": "markdown",
   "id": "f7e27040-fccd-490d-903b-8f9a6b74061d",
   "metadata": {},
   "source": [
    "We should now have a variable `depth`.  We can quickly check that it looks reasonable \n",
    "- Note that in this case, we provided mock, random CTD data, which will instrocuce some noise.\n",
    "- If we have deck values (measurements on the surface before deployment or after recovery), a good sanity check at this point is to check that `depth` is reasonably close to 0 at the surface!!"
   ]
  },
  {
   "cell_type": "code",
   "execution_count": 18,
   "id": "b6c8ba44-c35c-445a-a35c-82641e83123e",
   "metadata": {},
   "outputs": [
    {
     "ename": "AttributeError",
     "evalue": "'Dataset' object has no attribute 'depth'",
     "output_type": "error",
     "traceback": [
      "\u001b[0;31m---------------------------------------------------------------------------\u001b[0m",
      "\u001b[0;31mAttributeError\u001b[0m                            Traceback (most recent call last)",
      "Cell \u001b[0;32mIn[18], line 2\u001b[0m\n\u001b[1;32m      1\u001b[0m fig, ax \u001b[38;5;241m=\u001b[39m plt\u001b[38;5;241m.\u001b[39msubplots(figsize \u001b[38;5;241m=\u001b[39m (\u001b[38;5;241m11\u001b[39m, \u001b[38;5;241m2\u001b[39m))\n\u001b[0;32m----> 2\u001b[0m ax\u001b[38;5;241m.\u001b[39mplot(xr\u001b[38;5;241m.\u001b[39mdecode_cf(ds)\u001b[38;5;241m.\u001b[39mTIME, \u001b[43mds\u001b[49m\u001b[38;5;241;43m.\u001b[39;49m\u001b[43mdepth\u001b[49m\u001b[38;5;241m.\u001b[39mmean(dim \u001b[38;5;241m=\u001b[39m \u001b[38;5;124m'\u001b[39m\u001b[38;5;124mSAMPLE\u001b[39m\u001b[38;5;124m'\u001b[39m), \u001b[38;5;124m'\u001b[39m\u001b[38;5;124m-\u001b[39m\u001b[38;5;124m'\u001b[39m, )\n\u001b[1;32m      3\u001b[0m ax\u001b[38;5;241m.\u001b[39minvert_yaxis(); ax\u001b[38;5;241m.\u001b[39mset_ylabel(\u001b[38;5;124mf\u001b[39m\u001b[38;5;124m'\u001b[39m\u001b[38;5;124mdepth [\u001b[39m\u001b[38;5;132;01m{\u001b[39;00mds\u001b[38;5;241m.\u001b[39mdepth\u001b[38;5;241m.\u001b[39munits\u001b[38;5;132;01m}\u001b[39;00m\u001b[38;5;124m]\u001b[39m\u001b[38;5;124m'\u001b[39m)\n",
      "File \u001b[0;32m~/mambaforge/envs/oyv/lib/python3.12/site-packages/xarray/core/common.py:286\u001b[0m, in \u001b[0;36mAttrAccessMixin.__getattr__\u001b[0;34m(self, name)\u001b[0m\n\u001b[1;32m    284\u001b[0m         \u001b[38;5;28;01mwith\u001b[39;00m suppress(\u001b[38;5;167;01mKeyError\u001b[39;00m):\n\u001b[1;32m    285\u001b[0m             \u001b[38;5;28;01mreturn\u001b[39;00m source[name]\n\u001b[0;32m--> 286\u001b[0m \u001b[38;5;28;01mraise\u001b[39;00m \u001b[38;5;167;01mAttributeError\u001b[39;00m(\n\u001b[1;32m    287\u001b[0m     \u001b[38;5;124mf\u001b[39m\u001b[38;5;124m\"\u001b[39m\u001b[38;5;132;01m{\u001b[39;00m\u001b[38;5;28mtype\u001b[39m(\u001b[38;5;28mself\u001b[39m)\u001b[38;5;241m.\u001b[39m\u001b[38;5;18m__name__\u001b[39m\u001b[38;5;132;01m!r}\u001b[39;00m\u001b[38;5;124m object has no attribute \u001b[39m\u001b[38;5;132;01m{\u001b[39;00mname\u001b[38;5;132;01m!r}\u001b[39;00m\u001b[38;5;124m\"\u001b[39m\n\u001b[1;32m    288\u001b[0m )\n",
      "\u001b[0;31mAttributeError\u001b[0m: 'Dataset' object has no attribute 'depth'"
     ]
    },
    {
     "data": {
      "image/png": "[encoded data removed]",
      "text/plain": [
       "<Figure size 1100x200 with 1 Axes>"
      ]
     },
     "metadata": {},
     "output_type": "display_data"
    }
   ],
   "source": [
    "fig, ax = plt.subplots(figsize = (11, 2))\n",
    "ax.plot(xr.decode_cf(ds).TIME, ds.depth.mean(dim = 'SAMPLE'), '-', )\n",
    "ax.invert_yaxis(); ax.set_ylabel(f'depth [{ds.depth.units}]')"
   ]
  },
  {
   "cell_type": "markdown",
   "id": "c73e1063-2a3b-458d-b0b6-9842151e4c65",
   "metadata": {},
   "source": [
    "### Initial sea ice draft calculation\n",
    "\n",
    "We now calculate an initial estimate of sea ice draft. From this, we will calculate some empirical correction factors that we will apply to the *final* sea ice draft estimate.  \n",
    "\n",
    "The `kobbe.icedraft.calculate_draft()` function calculates the displacement of the scattering signal below the sea surface, $\\eta$, as:\n",
    "\n",
    "> $\\eta =$ `depth` $-$ `Average_AltimeterDistance`$\n",
    "\\cdot \\cos ($ `tilt_Average` )$\\ \\cdot$ `sound_speed_CTD`/`Average_Soundspeed`\n",
    "\n",
    "\n",
    "- $\\eta$ is stored as the variable `SURFACE_DEPTH_(LE, AST)`, where `LE` or `AST` denotes the method used to calculate the signal return time (we mainly use `LE` - leading edge -  for sea ice draft).\n",
    "\n",
    "- Surface depth estimates where a certain threshold of the manufacturer quality criterion is not met (e.g. `Average_AltimeterQualityAST>8000`) are discarded (set to NaN).\n",
    "    * The quality threshold (default 8000) can be set using the `qual_thr` parameter in `kobbe.icedraft.calculate_draft()`.\n",
    "- We also reject (set to NaN) LE measurements where LE and AST length estimates diverged by >0.5 m, reducing valid LE measurements by 29.3% from 266289 to 188385.\n",
    "    * The AST-LE difference threshold (default 0.5 m) can be set using the `LE_AST_max_sep` parameter in `kobbe.icedraft.calculate_draft()`.\n",
    "\n",
    "**Sea ice draft** is taken as $\\eta$ when ice is present, NaN otherwise.\n",
    "\n",
    "- Sea ice draft is added as the fields `SEA_ICE_DRAFT_(LE, AST)`.\n",
    "\n",
    "- Sea ice draft values below -0.5 are rejected (set to NaN)\n",
    "\n",
    "    * The sea ice draft minimum value (default -0.5 m) can be set using the `minimum_draft` parameter in `kobbe.icedraft.calculate_draft()`.\n",
    " \n",
    "- The median sea ice draft per ensemble is calculated and added as the variables `SEA_ICE_DRAFT_MEDIAN_(LE, AST)`.\n"
   ]
  },
  {
   "cell_type": "code",
   "execution_count": null,
   "id": "8b157788-07d8-4c9e-898a-5161fd60632f",
   "metadata": {},
   "outputs": [],
   "source": [
    "ds = kobbe.icedraft.calculate_draft(ds) # Initial draft estimate"
   ]
  },
  {
   "cell_type": "code",
   "execution_count": null,
   "id": "a715dd63-aeb4-4f1f-aa53-be70b1dc74c6",
   "metadata": {},
   "outputs": [],
   "source": [
    "# Obtain open water correction\n",
    "ds = kobbe.icedraft.get_open_water_correction(ds, run_window_days=1, fixed_offset=True)"
   ]
  },
  {
   "cell_type": "code",
   "execution_count": null,
   "id": "7d86a6e0-66c6-4d75-8d44-974a9e7af2d4",
   "metadata": {},
   "outputs": [],
   "source": [
    "ds = kobbe.icedraft.calculate_draft(ds) # Recalculate with open-water correction"
   ]
  },
  {
   "cell_type": "markdown",
   "id": "927b585d-d8d4-41ee-a4bb-e1de7dd18757",
   "metadata": {},
   "source": [
    "### Obtain open water correction\n",
    "\n",
    "Based on the preliminary calculation, we now want to find empirical coefficients $\\alpha_{OW}, \\beta_{OW}$ such that **in open water** there is minimal offset between the instrument depth and the vertical length measured by the altimeter (after adjusting for tilt and sound speed).\n",
    "\n",
    "See #8 of the [Processing pipeline documentation](https://kobbe.readthedocs.io/en/latest/pipeline/pipeline.html) for a more thorough explanation. Essentially, we:\n",
    "\n",
    "- Create an estimate of the low-passed (default-daily) $\\eta$ in open water ($\\eta_{O, LP}$). \n",
    "- Set $\\alpha_{OW}$ (a fixed offset applied to depth) to the deployment average value of $\\eta_{O, LP}$.\n",
    "- Set $\\beta_{OW}$ (a time-varying correction factor applied to sound speed) such that $\\eta_{O, LP}-\\alpha_{OW}$ when $\\eta_{O, LP}$ is recalculated with $\\beta_{OW}$ applied to sound speed."
   ]
  },
  {
   "cell_type": "code",
   "execution_count": null,
   "id": "10924fa6-4166-4ce9-94b0-398f447e654f",
   "metadata": {},
   "outputs": [],
   "source": [
    "ds = kobbe.icedraft.get_open_water_correction(ds, run_window_days=1, fixed_offset=True)"
   ]
  },
  {
   "cell_type": "markdown",
   "id": "df21e388-6128-4113-8b8d-e97b769b2696",
   "metadata": {},
   "source": [
    "This operation adds the coefficients $\\alpha, \\beta$ as variables `alpha_(LE, AST)`, `beta_(LE, AST)`.\n",
    "\n",
    "It also adds some additional fields (`ow_surface_before_correction_..`) that are useful for inspection.\n",
    "\n",
    "Note that *we have not recalculated sea ice draft at this point!* First, we will inspect the suggested correction using the `kobbe.icedraft.compare_open_water_correction()` function. This will show us an overview of the calculated coefficients, and some statistics of the effects of applying these corrections (if we elect to do so). It also displays various plots, these can be turned off by setting `show_plots=False`."
   ]
  },
  {
   "cell_type": "code",
   "execution_count": null,
   "id": "b9b1a491-c4b2-42d2-a0b0-eff9074eeade",
   "metadata": {},
   "outputs": [],
   "source": [
    "kobbe.icedraft.compare_open_water_correction(ds,)"
   ]
  },
  {
   "cell_type": "markdown",
   "id": "e50aeb83-3485-4851-856f-c5340c077fc4",
   "metadata": {},
   "source": [
    "#### Recompute with open water correction"
   ]
  },
  {
   "cell_type": "markdown",
   "id": "de7136ac-c16e-4c8b-8fe2-adc6eec2735a",
   "metadata": {},
   "source": [
    "If we are happy with how the open water correction looks, we can apply the corrections by running `icedraft.calculate_draft()` again:"
   ]
  },
  {
   "cell_type": "code",
   "execution_count": 16,
   "id": "063ad798-4895-4085-9afb-ee2217a46902",
   "metadata": {},
   "outputs": [],
   "source": [
    "ds = kobbe.icedraft.calculate_draft(ds)"
   ]
  },
  {
   "cell_type": "markdown",
   "id": "1234d689-6bfb-4cea-b160-9cc61fbb1592",
   "metadata": {},
   "source": [
    "If we inspect the metadata of (e.g.) the `SEA_ICE_DRAFT_MEDIAN_LE`, it should now reflect that open water corrections have been applied:"
   ]
  },
  {
   "cell_type": "code",
   "execution_count": 17,
   "id": "acbc6532-fb37-46e2-99b5-096324aaf858",
   "metadata": {},
   "outputs": [
    {
     "data": {
      "text/html": [
       "<div><svg style=\"position: absolute; width: 0; height: 0; overflow: hidden\">\n",
       "<defs>\n",
       "<symbol id=\"icon-database\" viewBox=\"0 0 32 32\">\n",
       "<path d=\"M16 0c-8.837 0-16 2.239-16 5v4c0 2.761 7.163 5 16 5s16-2.239 16-5v-4c0-2.761-7.163-5-16-5z\"></path>\n",
       "<path d=\"M16 17c-8.837 0-16-2.239-16-5v6c0 2.761 7.163 5 16 5s16-2.239 16-5v-6c0 2.761-7.163 5-16 5z\"></path>\n",
       "<path d=\"M16 26c-8.837 0-16-2.239-16-5v6c0 2.761 7.163 5 16 5s16-2.239 16-5v-6c0 2.761-7.163 5-16 5z\"></path>\n",
       "</symbol>\n",
       "<symbol id=\"icon-file-text2\" viewBox=\"0 0 32 32\">\n",
       "<path d=\"M28.681 7.159c-0.694-0.947-1.662-2.053-2.724-3.116s-2.169-2.030-3.116-2.724c-1.612-1.182-2.393-1.319-2.841-1.319h-15.5c-1.378 0-2.5 1.121-2.5 2.5v27c0 1.378 1.122 2.5 2.5 2.5h23c1.378 0 2.5-1.122 2.5-2.5v-19.5c0-0.448-0.137-1.23-1.319-2.841zM24.543 5.457c0.959 0.959 1.712 1.825 2.268 2.543h-4.811v-4.811c0.718 0.556 1.584 1.309 2.543 2.268zM28 29.5c0 0.271-0.229 0.5-0.5 0.5h-23c-0.271 0-0.5-0.229-0.5-0.5v-27c0-0.271 0.229-0.5 0.5-0.5 0 0 15.499-0 15.5 0v7c0 0.552 0.448 1 1 1h7v19.5z\"></path>\n",
       "<path d=\"M23 26h-14c-0.552 0-1-0.448-1-1s0.448-1 1-1h14c0.552 0 1 0.448 1 1s-0.448 1-1 1z\"></path>\n",
       "<path d=\"M23 22h-14c-0.552 0-1-0.448-1-1s0.448-1 1-1h14c0.552 0 1 0.448 1 1s-0.448 1-1 1z\"></path>\n",
       "<path d=\"M23 18h-14c-0.552 0-1-0.448-1-1s0.448-1 1-1h14c0.552 0 1 0.448 1 1s-0.448 1-1 1z\"></path>\n",
       "</symbol>\n",
       "</defs>\n",
       "</svg>\n",
       "<style>/* CSS stylesheet for displaying xarray objects in jupyterlab.\n",
       " *\n",
       " */\n",
       "\n",
       ":root {\n",
       "  --xr-font-color0: var(--jp-content-font-color0, rgba(0, 0, 0, 1));\n",
       "  --xr-font-color2: var(--jp-content-font-color2, rgba(0, 0, 0, 0.54));\n",
       "  --xr-font-color3: var(--jp-content-font-color3, rgba(0, 0, 0, 0.38));\n",
       "  --xr-border-color: var(--jp-border-color2, #e0e0e0);\n",
       "  --xr-disabled-color: var(--jp-layout-color3, #bdbdbd);\n",
       "  --xr-background-color: var(--jp-layout-color0, white);\n",
       "  --xr-background-color-row-even: var(--jp-layout-color1, white);\n",
       "  --xr-background-color-row-odd: var(--jp-layout-color2, #eeeeee);\n",
       "}\n",
       "\n",
       "html[theme=dark],\n",
       "html[data-theme=dark],\n",
       "body[data-theme=dark],\n",
       "body.vscode-dark {\n",
       "  --xr-font-color0: rgba(255, 255, 255, 1);\n",
       "  --xr-font-color2: rgba(255, 255, 255, 0.54);\n",
       "  --xr-font-color3: rgba(255, 255, 255, 0.38);\n",
       "  --xr-border-color: #1F1F1F;\n",
       "  --xr-disabled-color: #515151;\n",
       "  --xr-background-color: #111111;\n",
       "  --xr-background-color-row-even: #111111;\n",
       "  --xr-background-color-row-odd: #313131;\n",
       "}\n",
       "\n",
       ".xr-wrap {\n",
       "  display: block !important;\n",
       "  min-width: 300px;\n",
       "  max-width: 700px;\n",
       "}\n",
       "\n",
       ".xr-text-repr-fallback {\n",
       "  /* fallback to plain text repr when CSS is not injected (untrusted notebook) */\n",
       "  display: none;\n",
       "}\n",
       "\n",
       ".xr-header {\n",
       "  padding-top: 6px;\n",
       "  padding-bottom: 6px;\n",
       "  margin-bottom: 4px;\n",
       "  border-bottom: solid 1px var(--xr-border-color);\n",
       "}\n",
       "\n",
       ".xr-header > div,\n",
       ".xr-header > ul {\n",
       "  display: inline;\n",
       "  margin-top: 0;\n",
       "  margin-bottom: 0;\n",
       "}\n",
       "\n",
       ".xr-obj-type,\n",
       ".xr-array-name {\n",
       "  margin-left: 2px;\n",
       "  margin-right: 10px;\n",
       "}\n",
       "\n",
       ".xr-obj-type {\n",
       "  color: var(--xr-font-color2);\n",
       "}\n",
       "\n",
       ".xr-sections {\n",
       "  padding-left: 0 !important;\n",
       "  display: grid;\n",
       "  grid-template-columns: 150px auto auto 1fr 20px 20px;\n",
       "}\n",
       "\n",
       ".xr-section-item {\n",
       "  display: contents;\n",
       "}\n",
       "\n",
       ".xr-section-item input {\n",
       "  display: none;\n",
       "}\n",
       "\n",
       ".xr-section-item input + label {\n",
       "  color: var(--xr-disabled-color);\n",
       "}\n",
       "\n",
       ".xr-section-item input:enabled + label {\n",
       "  cursor: pointer;\n",
       "  color: var(--xr-font-color2);\n",
       "}\n",
       "\n",
       ".xr-section-item input:enabled + label:hover {\n",
       "  color: var(--xr-font-color0);\n",
       "}\n",
       "\n",
       ".xr-section-summary {\n",
       "  grid-column: 1;\n",
       "  color: var(--xr-font-color2);\n",
       "  font-weight: 500;\n",
       "}\n",
       "\n",
       ".xr-section-summary > span {\n",
       "  display: inline-block;\n",
       "  padding-left: 0.5em;\n",
       "}\n",
       "\n",
       ".xr-section-summary-in:disabled + label {\n",
       "  color: var(--xr-font-color2);\n",
       "}\n",
       "\n",
       ".xr-section-summary-in + label:before {\n",
       "  display: inline-block;\n",
       "  content: '►';\n",
       "  font-size: 11px;\n",
       "  width: 15px;\n",
       "  text-align: center;\n",
       "}\n",
       "\n",
       ".xr-section-summary-in:disabled + label:before {\n",
       "  color: var(--xr-disabled-color);\n",
       "}\n",
       "\n",
       ".xr-section-summary-in:checked + label:before {\n",
       "  content: '▼';\n",
       "}\n",
       "\n",
       ".xr-section-summary-in:checked + label > span {\n",
       "  display: none;\n",
       "}\n",
       "\n",
       ".xr-section-summary,\n",
       ".xr-section-inline-details {\n",
       "  padding-top: 4px;\n",
       "  padding-bottom: 4px;\n",
       "}\n",
       "\n",
       ".xr-section-inline-details {\n",
       "  grid-column: 2 / -1;\n",
       "}\n",
       "\n",
       ".xr-section-details {\n",
       "  display: none;\n",
       "  grid-column: 1 / -1;\n",
       "  margin-bottom: 5px;\n",
       "}\n",
       "\n",
       ".xr-section-summary-in:checked ~ .xr-section-details {\n",
       "  display: contents;\n",
       "}\n",
       "\n",
       ".xr-array-wrap {\n",
       "  grid-column: 1 / -1;\n",
       "  display: grid;\n",
       "  grid-template-columns: 20px auto;\n",
       "}\n",
       "\n",
       ".xr-array-wrap > label {\n",
       "  grid-column: 1;\n",
       "  vertical-align: top;\n",
       "}\n",
       "\n",
       ".xr-preview {\n",
       "  color: var(--xr-font-color3);\n",
       "}\n",
       "\n",
       ".xr-array-preview,\n",
       ".xr-array-data {\n",
       "  padding: 0 5px !important;\n",
       "  grid-column: 2;\n",
       "}\n",
       "\n",
       ".xr-array-data,\n",
       ".xr-array-in:checked ~ .xr-array-preview {\n",
       "  display: none;\n",
       "}\n",
       "\n",
       ".xr-array-in:checked ~ .xr-array-data,\n",
       ".xr-array-preview {\n",
       "  display: inline-block;\n",
       "}\n",
       "\n",
       ".xr-dim-list {\n",
       "  display: inline-block !important;\n",
       "  list-style: none;\n",
       "  padding: 0 !important;\n",
       "  margin: 0;\n",
       "}\n",
       "\n",
       ".xr-dim-list li {\n",
       "  display: inline-block;\n",
       "  padding: 0;\n",
       "  margin: 0;\n",
       "}\n",
       "\n",
       ".xr-dim-list:before {\n",
       "  content: '(';\n",
       "}\n",
       "\n",
       ".xr-dim-list:after {\n",
       "  content: ')';\n",
       "}\n",
       "\n",
       ".xr-dim-list li:not(:last-child):after {\n",
       "  content: ',';\n",
       "  padding-right: 5px;\n",
       "}\n",
       "\n",
       ".xr-has-index {\n",
       "  font-weight: bold;\n",
       "}\n",
       "\n",
       ".xr-var-list,\n",
       ".xr-var-item {\n",
       "  display: contents;\n",
       "}\n",
       "\n",
       ".xr-var-item > div,\n",
       ".xr-var-item label,\n",
       ".xr-var-item > .xr-var-name span {\n",
       "  background-color: var(--xr-background-color-row-even);\n",
       "  margin-bottom: 0;\n",
       "}\n",
       "\n",
       ".xr-var-item > .xr-var-name:hover span {\n",
       "  padding-right: 5px;\n",
       "}\n",
       "\n",
       ".xr-var-list > li:nth-child(odd) > div,\n",
       ".xr-var-list > li:nth-child(odd) > label,\n",
       ".xr-var-list > li:nth-child(odd) > .xr-var-name span {\n",
       "  background-color: var(--xr-background-color-row-odd);\n",
       "}\n",
       "\n",
       ".xr-var-name {\n",
       "  grid-column: 1;\n",
       "}\n",
       "\n",
       ".xr-var-dims {\n",
       "  grid-column: 2;\n",
       "}\n",
       "\n",
       ".xr-var-dtype {\n",
       "  grid-column: 3;\n",
       "  text-align: right;\n",
       "  color: var(--xr-font-color2);\n",
       "}\n",
       "\n",
       ".xr-var-preview {\n",
       "  grid-column: 4;\n",
       "}\n",
       "\n",
       ".xr-index-preview {\n",
       "  grid-column: 2 / 5;\n",
       "  color: var(--xr-font-color2);\n",
       "}\n",
       "\n",
       ".xr-var-name,\n",
       ".xr-var-dims,\n",
       ".xr-var-dtype,\n",
       ".xr-preview,\n",
       ".xr-attrs dt {\n",
       "  white-space: nowrap;\n",
       "  overflow: hidden;\n",
       "  text-overflow: ellipsis;\n",
       "  padding-right: 10px;\n",
       "}\n",
       "\n",
       ".xr-var-name:hover,\n",
       ".xr-var-dims:hover,\n",
       ".xr-var-dtype:hover,\n",
       ".xr-attrs dt:hover {\n",
       "  overflow: visible;\n",
       "  width: auto;\n",
       "  z-index: 1;\n",
       "}\n",
       "\n",
       ".xr-var-attrs,\n",
       ".xr-var-data,\n",
       ".xr-index-data {\n",
       "  display: none;\n",
       "  background-color: var(--xr-background-color) !important;\n",
       "  padding-bottom: 5px !important;\n",
       "}\n",
       "\n",
       ".xr-var-attrs-in:checked ~ .xr-var-attrs,\n",
       ".xr-var-data-in:checked ~ .xr-var-data,\n",
       ".xr-index-data-in:checked ~ .xr-index-data {\n",
       "  display: block;\n",
       "}\n",
       "\n",
       ".xr-var-data > table {\n",
       "  float: right;\n",
       "}\n",
       "\n",
       ".xr-var-name span,\n",
       ".xr-var-data,\n",
       ".xr-index-name div,\n",
       ".xr-index-data,\n",
       ".xr-attrs {\n",
       "  padding-left: 25px !important;\n",
       "}\n",
       "\n",
       ".xr-attrs,\n",
       ".xr-var-attrs,\n",
       ".xr-var-data,\n",
       ".xr-index-data {\n",
       "  grid-column: 1 / -1;\n",
       "}\n",
       "\n",
       "dl.xr-attrs {\n",
       "  padding: 0;\n",
       "  margin: 0;\n",
       "  display: grid;\n",
       "  grid-template-columns: 125px auto;\n",
       "}\n",
       "\n",
       ".xr-attrs dt,\n",
       ".xr-attrs dd {\n",
       "  padding: 0;\n",
       "  margin: 0;\n",
       "  float: left;\n",
       "  padding-right: 10px;\n",
       "  width: auto;\n",
       "}\n",
       "\n",
       ".xr-attrs dt {\n",
       "  font-weight: normal;\n",
       "  grid-column: 1;\n",
       "}\n",
       "\n",
       ".xr-attrs dt:hover span {\n",
       "  display: inline-block;\n",
       "  background: var(--xr-background-color);\n",
       "  padding-right: 10px;\n",
       "}\n",
       "\n",
       ".xr-attrs dd {\n",
       "  grid-column: 2;\n",
       "  white-space: pre-wrap;\n",
       "  word-break: break-all;\n",
       "}\n",
       "\n",
       ".xr-icon-database,\n",
       ".xr-icon-file-text2,\n",
       ".xr-no-icon {\n",
       "  display: inline-block;\n",
       "  vertical-align: middle;\n",
       "  width: 1em;\n",
       "  height: 1.5em !important;\n",
       "  stroke-width: 0;\n",
       "  stroke: currentColor;\n",
       "  fill: currentColor;\n",
       "}\n",
       "</style><pre class='xr-text-repr-fallback'>&lt;xarray.DataArray &#x27;SEA_ICE_DRAFT_LE&#x27; (TIME: 5552, SAMPLE: 48)&gt; Size: 2MB\n",
       "array([[0.98333977, 0.96119316, 0.96161267, ..., 0.96993407, 0.9859326 ,\n",
       "        0.98427727],\n",
       "       [1.82837873, 1.82145277, 1.82833479, ..., 1.90013623, 1.89873521,\n",
       "        1.90608165],\n",
       "       [1.23291454, 1.21121758, 1.20605595, ..., 1.14398412, 1.14929966,\n",
       "        1.14769121],\n",
       "       ...,\n",
       "       [1.58600608, 1.56377972, 1.5632618 , ..., 2.17592246, 2.18646035,\n",
       "        2.16496808],\n",
       "       [       nan,        nan, 0.66918199, ..., 0.79328207,        nan,\n",
       "               nan],\n",
       "       [       nan, 3.2200648 ,        nan, ...,        nan, 2.71690345,\n",
       "               nan]])\n",
       "Coordinates:\n",
       "  * TIME     (TIME) float64 44kB 1.803e+04 1.803e+04 ... 1.809e+04 1.809e+04\n",
       "  * SAMPLE   (SAMPLE) int64 384B 1 2 3 4 5 6 7 8 9 ... 41 42 43 44 45 46 47 48\n",
       "Attributes:\n",
       "    long_name:  Sea ice draft at each sample (LE)\n",
       "    units:      m\n",
       "    note:       From LE altimeter distances.\\n\\nComputed with the function ko...</pre><div class='xr-wrap' style='display:none'><div class='xr-header'><div class='xr-obj-type'>xarray.DataArray</div><div class='xr-array-name'>'SEA_ICE_DRAFT_LE'</div><ul class='xr-dim-list'><li><span class='xr-has-index'>TIME</span>: 5552</li><li><span class='xr-has-index'>SAMPLE</span>: 48</li></ul></div><ul class='xr-sections'><li class='xr-section-item'><div class='xr-array-wrap'><input id='section-b4cbe22c-9db8-4b06-bf7b-0f2abf147ada' class='xr-array-in' type='checkbox' checked><label for='section-b4cbe22c-9db8-4b06-bf7b-0f2abf147ada' title='Show/hide data repr'><svg class='icon xr-icon-database'><use xlink:href='#icon-database'></use></svg></label><div class='xr-array-preview xr-preview'><span>0.9833 0.9612 0.9616 0.9513 0.9578 0.9667 ... 2.685 nan nan 2.717 nan</span></div><div class='xr-array-data'><pre>array([[0.98333977, 0.96119316, 0.96161267, ..., 0.96993407, 0.9859326 ,\n",
       "        0.98427727],\n",
       "       [1.82837873, 1.82145277, 1.82833479, ..., 1.90013623, 1.89873521,\n",
       "        1.90608165],\n",
       "       [1.23291454, 1.21121758, 1.20605595, ..., 1.14398412, 1.14929966,\n",
       "        1.14769121],\n",
       "       ...,\n",
       "       [1.58600608, 1.56377972, 1.5632618 , ..., 2.17592246, 2.18646035,\n",
       "        2.16496808],\n",
       "       [       nan,        nan, 0.66918199, ..., 0.79328207,        nan,\n",
       "               nan],\n",
       "       [       nan, 3.2200648 ,        nan, ...,        nan, 2.71690345,\n",
       "               nan]])</pre></div></div></li><li class='xr-section-item'><input id='section-fd245c10-715e-41d3-be27-4298f2b74f31' class='xr-section-summary-in' type='checkbox'  checked><label for='section-fd245c10-715e-41d3-be27-4298f2b74f31' class='xr-section-summary' >Coordinates: <span>(2)</span></label><div class='xr-section-inline-details'></div><div class='xr-section-details'><ul class='xr-var-list'><li class='xr-var-item'><div class='xr-var-name'><span class='xr-has-index'>TIME</span></div><div class='xr-var-dims'>(TIME)</div><div class='xr-var-dtype'>float64</div><div class='xr-var-preview xr-preview'>1.803e+04 1.803e+04 ... 1.809e+04</div><input id='attrs-715c3a28-1cda-4649-b5e1-10adb9c97681' class='xr-var-attrs-in' type='checkbox' ><label for='attrs-715c3a28-1cda-4649-b5e1-10adb9c97681' title='Show/Hide attributes'><svg class='icon xr-icon-file-text2'><use xlink:href='#icon-file-text2'></use></svg></label><input id='data-38faa254-c371-4033-952e-5aa2c0a1e72f' class='xr-var-data-in' type='checkbox'><label for='data-38faa254-c371-4033-952e-5aa2c0a1e72f' title='Show/Hide data repr'><svg class='icon xr-icon-database'><use xlink:href='#icon-database'></use></svg></label><div class='xr-var-attrs'><dl class='xr-attrs'><dt><span>units :</span></dt><dd>Days since 1970-01-01</dd><dt><span>long_name :</span></dt><dd>Time stamp of the ensemble averaged measurement</dd></dl></div><div class='xr-var-data'><pre>array([18034.510693, 18034.52111 , 18034.531526, ..., 18092.312776,\n",
       "       18092.323193, 18092.33361 ])</pre></div></li><li class='xr-var-item'><div class='xr-var-name'><span class='xr-has-index'>SAMPLE</span></div><div class='xr-var-dims'>(SAMPLE)</div><div class='xr-var-dtype'>int64</div><div class='xr-var-preview xr-preview'>1 2 3 4 5 6 7 ... 43 44 45 46 47 48</div><input id='attrs-311ca92c-64a5-416e-9149-72ddb7b38c38' class='xr-var-attrs-in' type='checkbox' ><label for='attrs-311ca92c-64a5-416e-9149-72ddb7b38c38' title='Show/Hide attributes'><svg class='icon xr-icon-file-text2'><use xlink:href='#icon-file-text2'></use></svg></label><input id='data-0b463744-1327-40b4-b997-c206991f4386' class='xr-var-data-in' type='checkbox'><label for='data-0b463744-1327-40b4-b997-c206991f4386' title='Show/Hide data repr'><svg class='icon xr-icon-database'><use xlink:href='#icon-database'></use></svg></label><div class='xr-var-attrs'><dl class='xr-attrs'><dt><span>units :</span></dt><dd>Sample number</dd><dt><span>long_name :</span></dt><dd>Sample number in ensemble (48 samples per ensemble)</dd></dl></div><div class='xr-var-data'><pre>array([ 1,  2,  3,  4,  5,  6,  7,  8,  9, 10, 11, 12, 13, 14, 15, 16, 17, 18,\n",
       "       19, 20, 21, 22, 23, 24, 25, 26, 27, 28, 29, 30, 31, 32, 33, 34, 35, 36,\n",
       "       37, 38, 39, 40, 41, 42, 43, 44, 45, 46, 47, 48])</pre></div></li></ul></div></li><li class='xr-section-item'><input id='section-59a6bc96-eb27-40a5-baa6-63eace5a389d' class='xr-section-summary-in' type='checkbox'  ><label for='section-59a6bc96-eb27-40a5-baa6-63eace5a389d' class='xr-section-summary' >Indexes: <span>(2)</span></label><div class='xr-section-inline-details'></div><div class='xr-section-details'><ul class='xr-var-list'><li class='xr-var-item'><div class='xr-index-name'><div>TIME</div></div><div class='xr-index-preview'>PandasIndex</div><div></div><input id='index-1f1b9fb9-9d7a-4c1a-8089-efe4abd98587' class='xr-index-data-in' type='checkbox'/><label for='index-1f1b9fb9-9d7a-4c1a-8089-efe4abd98587' title='Show/Hide index repr'><svg class='icon xr-icon-database'><use xlink:href='#icon-database'></use></svg></label><div class='xr-index-data'><pre>PandasIndex(Index([18034.51069300924, 18034.52110967593, 18034.53152634314,\n",
       "       18034.54194300924, 18034.55235967593, 18034.56277634256,\n",
       "       18034.57319300924, 18034.58360967593, 18034.59402634256,\n",
       "       18034.60444300924,\n",
       "       ...\n",
       "       18092.23985967593, 18092.25027634256, 18092.26069300924,\n",
       "       18092.27110967593, 18092.28152634256, 18092.29194300924,\n",
       "       18092.30235967593, 18092.31277634256, 18092.32319300924,\n",
       "       18092.33360967535],\n",
       "      dtype=&#x27;float64&#x27;, name=&#x27;TIME&#x27;, length=5552))</pre></div></li><li class='xr-var-item'><div class='xr-index-name'><div>SAMPLE</div></div><div class='xr-index-preview'>PandasIndex</div><div></div><input id='index-d8723c83-ee93-404d-a2cc-1262d8e35569' class='xr-index-data-in' type='checkbox'/><label for='index-d8723c83-ee93-404d-a2cc-1262d8e35569' title='Show/Hide index repr'><svg class='icon xr-icon-database'><use xlink:href='#icon-database'></use></svg></label><div class='xr-index-data'><pre>PandasIndex(Index([ 1,  2,  3,  4,  5,  6,  7,  8,  9, 10, 11, 12, 13, 14, 15, 16, 17, 18,\n",
       "       19, 20, 21, 22, 23, 24, 25, 26, 27, 28, 29, 30, 31, 32, 33, 34, 35, 36,\n",
       "       37, 38, 39, 40, 41, 42, 43, 44, 45, 46, 47, 48],\n",
       "      dtype=&#x27;int64&#x27;, name=&#x27;SAMPLE&#x27;))</pre></div></li></ul></div></li><li class='xr-section-item'><input id='section-8c09bf2c-8e7a-45b9-b24d-3ae9162b344e' class='xr-section-summary-in' type='checkbox'  checked><label for='section-8c09bf2c-8e7a-45b9-b24d-3ae9162b344e' class='xr-section-summary' >Attributes: <span>(3)</span></label><div class='xr-section-inline-details'></div><div class='xr-section-details'><dl class='xr-attrs'><dt><span>long_name :</span></dt><dd>Sea ice draft at each sample (LE)</dd><dt><span>units :</span></dt><dd>m</dd><dt><span>note :</span></dt><dd>From LE altimeter distances.\n",
       "\n",
       "Computed with the function kobbe.icedraft.calculate_surface_position().\n",
       "- Altimeter distance adjusted for instrument tilt.\n",
       "- Altimeter distance recomputed using updated sound speed (*sound_speed_CTD* field)\n",
       "- Applying an open water correction fixed offset alpha to the altimeter distance.\n",
       "- Applying an open water correction factor beta to altimeter distance (beta_LE field).\n",
       "- Samples where Average_AltimeterQualityLE&gt;8000 were discarded.\n",
       "- Rejected LE measurements where LE and AST length estimates diverged by &gt;0.5 m, reducing valid LE measurements by 26.5% from 266289 to 195678.\n",
       "\n",
       "Set to NaN where ICE_IN_SAMPLE==False</dd></dl></div></li></ul></div></div>"
      ],
      "text/plain": [
       "<xarray.DataArray 'SEA_ICE_DRAFT_LE' (TIME: 5552, SAMPLE: 48)> Size: 2MB\n",
       "array([[0.98333977, 0.96119316, 0.96161267, ..., 0.96993407, 0.9859326 ,\n",
       "        0.98427727],\n",
       "       [1.82837873, 1.82145277, 1.82833479, ..., 1.90013623, 1.89873521,\n",
       "        1.90608165],\n",
       "       [1.23291454, 1.21121758, 1.20605595, ..., 1.14398412, 1.14929966,\n",
       "        1.14769121],\n",
       "       ...,\n",
       "       [1.58600608, 1.56377972, 1.5632618 , ..., 2.17592246, 2.18646035,\n",
       "        2.16496808],\n",
       "       [       nan,        nan, 0.66918199, ..., 0.79328207,        nan,\n",
       "               nan],\n",
       "       [       nan, 3.2200648 ,        nan, ...,        nan, 2.71690345,\n",
       "               nan]])\n",
       "Coordinates:\n",
       "  * TIME     (TIME) float64 44kB 1.803e+04 1.803e+04 ... 1.809e+04 1.809e+04\n",
       "  * SAMPLE   (SAMPLE) int64 384B 1 2 3 4 5 6 7 8 9 ... 41 42 43 44 45 46 47 48\n",
       "Attributes:\n",
       "    long_name:  Sea ice draft at each sample (LE)\n",
       "    units:      m\n",
       "    note:       From LE altimeter distances.\\n\\nComputed with the function ko..."
      ]
     },
     "execution_count": 17,
     "metadata": {},
     "output_type": "execute_result"
    }
   ],
   "source": [
    "ds.SEA_ICE_DRAFT_LE"
   ]
  },
  {
   "cell_type": "markdown",
   "id": "2ff757db-d089-4cd1-b455-d6046cbdd1be",
   "metadata": {},
   "source": [
    "We can plot a histogram with some statistics to see what out estimate of sea ice draft looks like: "
   ]
  },
  {
   "cell_type": "code",
   "execution_count": 5,
   "id": "95e52f65-d0ff-41ea-9d18-57f13d2648fa",
   "metadata": {},
   "outputs": [
    {
     "ename": "KeyError",
     "evalue": "\"No variable named 'SEA_ICE_DRAFT_LE'. Variables on the dataset include ['BINS', 'xyz', 'beams', 'TIME', 'SAMPLE', ..., 'ICE_IN_SAMPLE', 'ICE_IN_SAMPLE_ANY', 'SIC_FOM', 'SIC_FOM_ALT', 'INSTRUMENT']\"",
     "output_type": "error",
     "traceback": [
      "\u001b[0;31m---------------------------------------------------------------------------\u001b[0m",
      "\u001b[0;31mKeyError\u001b[0m                                  Traceback (most recent call last)",
      "\u001b[0;32m~/mambaforge/envs/oyv/lib/python3.12/site-packages/xarray/core/dataset.py\u001b[0m in \u001b[0;36m?\u001b[0;34m(self, name)\u001b[0m\n\u001b[1;32m   1477\u001b[0m             \u001b[0mvariable\u001b[0m \u001b[0;34m=\u001b[0m \u001b[0mself\u001b[0m\u001b[0;34m.\u001b[0m\u001b[0m_variables\u001b[0m\u001b[0;34m[\u001b[0m\u001b[0mname\u001b[0m\u001b[0;34m]\u001b[0m\u001b[0;34m\u001b[0m\u001b[0;34m\u001b[0m\u001b[0m\n\u001b[1;32m   1478\u001b[0m         \u001b[0;32mexcept\u001b[0m \u001b[0mKeyError\u001b[0m\u001b[0;34m:\u001b[0m\u001b[0;34m\u001b[0m\u001b[0;34m\u001b[0m\u001b[0m\n\u001b[0;32m-> 1479\u001b[0;31m             \u001b[0m_\u001b[0m\u001b[0;34m,\u001b[0m \u001b[0mname\u001b[0m\u001b[0;34m,\u001b[0m \u001b[0mvariable\u001b[0m \u001b[0;34m=\u001b[0m \u001b[0m_get_virtual_variable\u001b[0m\u001b[0;34m(\u001b[0m\u001b[0mself\u001b[0m\u001b[0;34m.\u001b[0m\u001b[0m_variables\u001b[0m\u001b[0;34m,\u001b[0m \u001b[0mname\u001b[0m\u001b[0;34m,\u001b[0m \u001b[0mself\u001b[0m\u001b[0;34m.\u001b[0m\u001b[0msizes\u001b[0m\u001b[0;34m)\u001b[0m\u001b[0;34m\u001b[0m\u001b[0;34m\u001b[0m\u001b[0m\n\u001b[0m\u001b[1;32m   1480\u001b[0m \u001b[0;34m\u001b[0m\u001b[0m\n",
      "\u001b[0;31mKeyError\u001b[0m: 'SEA_ICE_DRAFT_LE'",
      "\nDuring handling of the above exception, another exception occurred:\n",
      "\u001b[0;31mKeyError\u001b[0m                                  Traceback (most recent call last)",
      "\u001b[0;32m~/mambaforge/envs/oyv/lib/python3.12/site-packages/xarray/core/dataset.py\u001b[0m in \u001b[0;36m?\u001b[0;34m(self, key)\u001b[0m\n\u001b[1;32m   1576\u001b[0m                 \u001b[0;32mreturn\u001b[0m \u001b[0mself\u001b[0m\u001b[0;34m.\u001b[0m\u001b[0m_construct_dataarray\u001b[0m\u001b[0;34m(\u001b[0m\u001b[0mkey\u001b[0m\u001b[0;34m)\u001b[0m\u001b[0;34m\u001b[0m\u001b[0;34m\u001b[0m\u001b[0m\n\u001b[1;32m   1577\u001b[0m             \u001b[0;32mexcept\u001b[0m \u001b[0mKeyError\u001b[0m \u001b[0;32mas\u001b[0m \u001b[0me\u001b[0m\u001b[0;34m:\u001b[0m\u001b[0;34m\u001b[0m\u001b[0;34m\u001b[0m\u001b[0m\n\u001b[0;32m-> 1578\u001b[0;31m                 raise KeyError(\n\u001b[0m\u001b[1;32m   1579\u001b[0m                     \u001b[0;34mf\"\u001b[0m\u001b[0;34mNo variable named \u001b[0m\u001b[0;34m{\u001b[0m\u001b[0mkey\u001b[0m\u001b[0;34m!\u001b[0m\u001b[0mr\u001b[0m\u001b[0;34m}\u001b[0m\u001b[0;34m. Variables on the dataset include \u001b[0m\u001b[0;34m{\u001b[0m\u001b[0mshorten_list_repr\u001b[0m\u001b[0;34m(\u001b[0m\u001b[0mlist\u001b[0m\u001b[0;34m(\u001b[0m\u001b[0mself\u001b[0m\u001b[0;34m.\u001b[0m\u001b[0mvariables\u001b[0m\u001b[0;34m.\u001b[0m\u001b[0mkeys\u001b[0m\u001b[0;34m(\u001b[0m\u001b[0;34m)\u001b[0m\u001b[0;34m)\u001b[0m\u001b[0;34m,\u001b[0m \u001b[0mmax_items\u001b[0m\u001b[0;34m=\u001b[0m\u001b[0;36m10\u001b[0m\u001b[0;34m)\u001b[0m\u001b[0;34m}\u001b[0m\u001b[0;34m\"\u001b[0m\u001b[0;34m\u001b[0m\u001b[0;34m\u001b[0m\u001b[0m\n",
      "\u001b[0;32m~/mambaforge/envs/oyv/lib/python3.12/site-packages/xarray/core/dataset.py\u001b[0m in \u001b[0;36m?\u001b[0;34m(self, name)\u001b[0m\n\u001b[1;32m   1477\u001b[0m             \u001b[0mvariable\u001b[0m \u001b[0;34m=\u001b[0m \u001b[0mself\u001b[0m\u001b[0;34m.\u001b[0m\u001b[0m_variables\u001b[0m\u001b[0;34m[\u001b[0m\u001b[0mname\u001b[0m\u001b[0;34m]\u001b[0m\u001b[0;34m\u001b[0m\u001b[0;34m\u001b[0m\u001b[0m\n\u001b[1;32m   1478\u001b[0m         \u001b[0;32mexcept\u001b[0m \u001b[0mKeyError\u001b[0m\u001b[0;34m:\u001b[0m\u001b[0;34m\u001b[0m\u001b[0;34m\u001b[0m\u001b[0m\n\u001b[0;32m-> 1479\u001b[0;31m             \u001b[0m_\u001b[0m\u001b[0;34m,\u001b[0m \u001b[0mname\u001b[0m\u001b[0;34m,\u001b[0m \u001b[0mvariable\u001b[0m \u001b[0;34m=\u001b[0m \u001b[0m_get_virtual_variable\u001b[0m\u001b[0;34m(\u001b[0m\u001b[0mself\u001b[0m\u001b[0;34m.\u001b[0m\u001b[0m_variables\u001b[0m\u001b[0;34m,\u001b[0m \u001b[0mname\u001b[0m\u001b[0;34m,\u001b[0m \u001b[0mself\u001b[0m\u001b[0;34m.\u001b[0m\u001b[0msizes\u001b[0m\u001b[0;34m)\u001b[0m\u001b[0;34m\u001b[0m\u001b[0;34m\u001b[0m\u001b[0m\n\u001b[0m\u001b[1;32m   1480\u001b[0m \u001b[0;34m\u001b[0m\u001b[0m\n",
      "\u001b[0;32m~/mambaforge/envs/oyv/lib/python3.12/site-packages/xarray/core/dataset.py\u001b[0m in \u001b[0;36m?\u001b[0;34m(variables, key, dim_sizes)\u001b[0m\n\u001b[1;32m    211\u001b[0m     \u001b[0msplit_key\u001b[0m \u001b[0;34m=\u001b[0m \u001b[0mkey\u001b[0m\u001b[0;34m.\u001b[0m\u001b[0msplit\u001b[0m\u001b[0;34m(\u001b[0m\u001b[0;34m\".\"\u001b[0m\u001b[0;34m,\u001b[0m \u001b[0;36m1\u001b[0m\u001b[0;34m)\u001b[0m\u001b[0;34m\u001b[0m\u001b[0;34m\u001b[0m\u001b[0m\n\u001b[1;32m    212\u001b[0m     \u001b[0;32mif\u001b[0m \u001b[0mlen\u001b[0m\u001b[0;34m(\u001b[0m\u001b[0msplit_key\u001b[0m\u001b[0;34m)\u001b[0m \u001b[0;34m!=\u001b[0m \u001b[0;36m2\u001b[0m\u001b[0;34m:\u001b[0m\u001b[0;34m\u001b[0m\u001b[0;34m\u001b[0m\u001b[0m\n\u001b[0;32m--> 213\u001b[0;31m         \u001b[0;32mraise\u001b[0m \u001b[0mKeyError\u001b[0m\u001b[0;34m(\u001b[0m\u001b[0mkey\u001b[0m\u001b[0;34m)\u001b[0m\u001b[0;34m\u001b[0m\u001b[0;34m\u001b[0m\u001b[0m\n\u001b[0m\u001b[1;32m    214\u001b[0m \u001b[0;34m\u001b[0m\u001b[0m\n",
      "\u001b[0;31mKeyError\u001b[0m: 'SEA_ICE_DRAFT_LE'",
      "\nThe above exception was the direct cause of the following exception:\n",
      "\u001b[0;31mKeyError\u001b[0m                                  Traceback (most recent call last)",
      "\u001b[0;32m/tmp/ipykernel_863472/1575151600.py\u001b[0m in \u001b[0;36m?\u001b[0;34m()\u001b[0m\n\u001b[0;32m----> 1\u001b[0;31m \u001b[0mkobbe\u001b[0m\u001b[0;34m.\u001b[0m\u001b[0mtoolbox\u001b[0m\u001b[0;34m.\u001b[0m\u001b[0mhistogram\u001b[0m\u001b[0;34m(\u001b[0m\u001b[0mds\u001b[0m\u001b[0;34m,\u001b[0m \u001b[0;34m'SEA_ICE_DRAFT_LE'\u001b[0m\u001b[0;34m)\u001b[0m\u001b[0;34m\u001b[0m\u001b[0;34m\u001b[0m\u001b[0m\n\u001b[0m",
      "\u001b[0;32m~/work/code/python/kobbe/src/kobbe/toolbox.py\u001b[0m in \u001b[0;36m?\u001b[0;34m(ds, varnm, hrange, nbins, return_figure)\u001b[0m\n\u001b[1;32m     62\u001b[0m     \u001b[0mfig\u001b[0m \u001b[0;34m=\u001b[0m \u001b[0mplt\u001b[0m\u001b[0;34m.\u001b[0m\u001b[0mfigure\u001b[0m\u001b[0;34m(\u001b[0m\u001b[0mfigsize\u001b[0m\u001b[0;34m=\u001b[0m\u001b[0;34m(\u001b[0m\u001b[0;36m8\u001b[0m\u001b[0;34m,\u001b[0m \u001b[0;36m8\u001b[0m\u001b[0;34m)\u001b[0m\u001b[0;34m)\u001b[0m\u001b[0;34m\u001b[0m\u001b[0;34m\u001b[0m\u001b[0m\n\u001b[1;32m     63\u001b[0m     \u001b[0max\u001b[0m \u001b[0;34m=\u001b[0m \u001b[0mplt\u001b[0m\u001b[0;34m.\u001b[0m\u001b[0msubplot2grid\u001b[0m\u001b[0;34m(\u001b[0m\u001b[0;34m(\u001b[0m\u001b[0;36m2\u001b[0m\u001b[0;34m,\u001b[0m \u001b[0;36m5\u001b[0m\u001b[0;34m)\u001b[0m\u001b[0;34m,\u001b[0m \u001b[0;34m(\u001b[0m\u001b[0;36m0\u001b[0m\u001b[0;34m,\u001b[0m \u001b[0;36m0\u001b[0m\u001b[0;34m)\u001b[0m\u001b[0;34m,\u001b[0m \u001b[0mcolspan\u001b[0m\u001b[0;34m=\u001b[0m\u001b[0;36m5\u001b[0m\u001b[0;34m)\u001b[0m\u001b[0;34m\u001b[0m\u001b[0;34m\u001b[0m\u001b[0m\n\u001b[1;32m     64\u001b[0m     \u001b[0mtextax\u001b[0m \u001b[0;34m=\u001b[0m \u001b[0mplt\u001b[0m\u001b[0;34m.\u001b[0m\u001b[0msubplot2grid\u001b[0m\u001b[0;34m(\u001b[0m\u001b[0;34m(\u001b[0m\u001b[0;36m2\u001b[0m\u001b[0;34m,\u001b[0m \u001b[0;36m5\u001b[0m\u001b[0;34m)\u001b[0m\u001b[0;34m,\u001b[0m \u001b[0;34m(\u001b[0m\u001b[0;36m1\u001b[0m\u001b[0;34m,\u001b[0m \u001b[0;36m0\u001b[0m\u001b[0;34m)\u001b[0m\u001b[0;34m,\u001b[0m \u001b[0mcolspan\u001b[0m\u001b[0;34m=\u001b[0m\u001b[0;36m3\u001b[0m\u001b[0;34m)\u001b[0m\u001b[0;34m\u001b[0m\u001b[0;34m\u001b[0m\u001b[0m\n\u001b[1;32m     65\u001b[0m \u001b[0;34m\u001b[0m\u001b[0m\n\u001b[0;32m---> 66\u001b[0;31m     \u001b[0mVAR_all\u001b[0m \u001b[0;34m=\u001b[0m \u001b[0mds\u001b[0m\u001b[0;34m[\u001b[0m\u001b[0mvarnm\u001b[0m\u001b[0;34m]\u001b[0m\u001b[0;34m.\u001b[0m\u001b[0mdata\u001b[0m\u001b[0;34m[\u001b[0m\u001b[0;34m~\u001b[0m\u001b[0mnp\u001b[0m\u001b[0;34m.\u001b[0m\u001b[0misnan\u001b[0m\u001b[0;34m(\u001b[0m\u001b[0mds\u001b[0m\u001b[0;34m[\u001b[0m\u001b[0mvarnm\u001b[0m\u001b[0;34m]\u001b[0m\u001b[0;34m.\u001b[0m\u001b[0mdata\u001b[0m\u001b[0;34m)\u001b[0m\u001b[0;34m]\u001b[0m\u001b[0;34m\u001b[0m\u001b[0;34m\u001b[0m\u001b[0m\n\u001b[0m\u001b[1;32m     67\u001b[0m \u001b[0;34m\u001b[0m\u001b[0m\n\u001b[1;32m     68\u001b[0m     \u001b[0mN_all\u001b[0m \u001b[0;34m=\u001b[0m \u001b[0mlen\u001b[0m\u001b[0;34m(\u001b[0m\u001b[0mVAR_all\u001b[0m\u001b[0;34m)\u001b[0m\u001b[0;34m\u001b[0m\u001b[0;34m\u001b[0m\u001b[0m\n\u001b[1;32m     69\u001b[0m     \u001b[0mcol_1\u001b[0m \u001b[0;34m=\u001b[0m \u001b[0;34m(\u001b[0m\u001b[0;36m1.0\u001b[0m\u001b[0;34m,\u001b[0m \u001b[0;36m0.498\u001b[0m\u001b[0;34m,\u001b[0m \u001b[0;36m0.055\u001b[0m\u001b[0;34m)\u001b[0m\u001b[0;34m\u001b[0m\u001b[0;34m\u001b[0m\u001b[0m\n",
      "\u001b[0;32m~/mambaforge/envs/oyv/lib/python3.12/site-packages/xarray/core/dataset.py\u001b[0m in \u001b[0;36m?\u001b[0;34m(self, key)\u001b[0m\n\u001b[1;32m   1574\u001b[0m         \u001b[0;32mif\u001b[0m \u001b[0mutils\u001b[0m\u001b[0;34m.\u001b[0m\u001b[0mhashable\u001b[0m\u001b[0;34m(\u001b[0m\u001b[0mkey\u001b[0m\u001b[0;34m)\u001b[0m\u001b[0;34m:\u001b[0m\u001b[0;34m\u001b[0m\u001b[0;34m\u001b[0m\u001b[0m\n\u001b[1;32m   1575\u001b[0m             \u001b[0;32mtry\u001b[0m\u001b[0;34m:\u001b[0m\u001b[0;34m\u001b[0m\u001b[0;34m\u001b[0m\u001b[0m\n\u001b[1;32m   1576\u001b[0m                 \u001b[0;32mreturn\u001b[0m \u001b[0mself\u001b[0m\u001b[0;34m.\u001b[0m\u001b[0m_construct_dataarray\u001b[0m\u001b[0;34m(\u001b[0m\u001b[0mkey\u001b[0m\u001b[0;34m)\u001b[0m\u001b[0;34m\u001b[0m\u001b[0;34m\u001b[0m\u001b[0m\n\u001b[1;32m   1577\u001b[0m             \u001b[0;32mexcept\u001b[0m \u001b[0mKeyError\u001b[0m \u001b[0;32mas\u001b[0m \u001b[0me\u001b[0m\u001b[0;34m:\u001b[0m\u001b[0;34m\u001b[0m\u001b[0;34m\u001b[0m\u001b[0m\n\u001b[0;32m-> 1578\u001b[0;31m                 raise KeyError(\n\u001b[0m\u001b[1;32m   1579\u001b[0m                     \u001b[0;34mf\"\u001b[0m\u001b[0;34mNo variable named \u001b[0m\u001b[0;34m{\u001b[0m\u001b[0mkey\u001b[0m\u001b[0;34m!\u001b[0m\u001b[0mr\u001b[0m\u001b[0;34m}\u001b[0m\u001b[0;34m. Variables on the dataset include \u001b[0m\u001b[0;34m{\u001b[0m\u001b[0mshorten_list_repr\u001b[0m\u001b[0;34m(\u001b[0m\u001b[0mlist\u001b[0m\u001b[0;34m(\u001b[0m\u001b[0mself\u001b[0m\u001b[0;34m.\u001b[0m\u001b[0mvariables\u001b[0m\u001b[0;34m.\u001b[0m\u001b[0mkeys\u001b[0m\u001b[0;34m(\u001b[0m\u001b[0;34m)\u001b[0m\u001b[0;34m)\u001b[0m\u001b[0;34m,\u001b[0m \u001b[0mmax_items\u001b[0m\u001b[0;34m=\u001b[0m\u001b[0;36m10\u001b[0m\u001b[0;34m)\u001b[0m\u001b[0;34m}\u001b[0m\u001b[0;34m\"\u001b[0m\u001b[0;34m\u001b[0m\u001b[0;34m\u001b[0m\u001b[0m\n\u001b[1;32m   1580\u001b[0m                 \u001b[0;34m)\u001b[0m \u001b[0;32mfrom\u001b[0m \u001b[0me\u001b[0m\u001b[0;34m\u001b[0m\u001b[0;34m\u001b[0m\u001b[0m\n\u001b[1;32m   1581\u001b[0m \u001b[0;34m\u001b[0m\u001b[0m\n",
      "\u001b[0;31mKeyError\u001b[0m: \"No variable named 'SEA_ICE_DRAFT_LE'. Variables on the dataset include ['BINS', 'xyz', 'beams', 'TIME', 'SAMPLE', ..., 'ICE_IN_SAMPLE', 'ICE_IN_SAMPLE_ANY', 'SIC_FOM', 'SIC_FOM_ALT', 'INSTRUMENT']\""
     ]
    },
    {
     "data": {
      "image/png": "[encoded data removed]",
      "text/plain": [
       "<Figure size 800x800 with 2 Axes>"
      ]
     },
     "metadata": {},
     "output_type": "display_data"
    }
   ],
   "source": [
    "kobbe.toolbox.histogram(ds, 'SEA_ICE_DRAFT_LE')"
   ]
  },
  {
   "cell_type": "markdown",
   "id": "13cdd247-507d-483f-9559-0f5989809322",
   "metadata": {},
   "source": [
    "## Save \n",
    "\n",
    "We can save the dataset to netcdf. We can choose to keep all >100 variables, or export a reduced dataset. The default is to just store sea ice draft medians.\n"
   ]
  },
  {
   "cell_type": "code",
   "execution_count": 19,
   "id": "f8ea5e65-0704-44aa-bcf6-cf1d45015788",
   "metadata": {},
   "outputs": [
    {
     "name": "stdout",
     "output_type": "stream",
     "text": [
      "Saved data to file:\n",
      "test_data/test_sig500_icedraft.nc\n"
     ]
    }
   ],
   "source": [
    "kobbe.load.to_nc(ds, 'test_data/test_sig500_icedraft.nc')"
   ]
  }
 ],
 "metadata": {
  "kernelspec": {
   "display_name": "Python 3 (ipykernel)",
   "language": "python",
   "name": "python3"
  },
  "language_info": {
   "codemirror_mode": {
    "name": "ipython",
    "version": 3
   },
   "file_extension": ".py",
   "mimetype": "text/x-python",
   "name": "python",
   "nbconvert_exporter": "python",
   "pygments_lexer": "ipython3",
   "version": "3.12.5"
  }
 },
 "nbformat": 4,
 "nbformat_minor": 5
}
